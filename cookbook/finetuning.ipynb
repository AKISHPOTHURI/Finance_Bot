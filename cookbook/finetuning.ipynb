{
 "cells": [
  {
   "cell_type": "code",
   "execution_count": 1,
   "metadata": {},
   "outputs": [
    {
     "name": "stdout",
     "output_type": "stream",
     "text": [
      "Akish\n"
     ]
    }
   ],
   "source": [
    "print(\"Akish\")"
   ]
  },
  {
   "cell_type": "code",
   "execution_count": 1,
   "metadata": {},
   "outputs": [
    {
     "data": {
      "text/plain": [
       "'c:\\\\Users\\\\akish.pothuri\\\\python\\\\Finance_Bot'"
      ]
     },
     "execution_count": 1,
     "metadata": {},
     "output_type": "execute_result"
    }
   ],
   "source": [
    "import os\n",
    "os.chdir('../')\n",
    "%pwd"
   ]
  },
  {
   "cell_type": "code",
   "execution_count": 5,
   "metadata": {},
   "outputs": [
    {
     "name": "stdout",
     "output_type": "stream",
     "text": [
      "Collecting scipy\n",
      "  Using cached scipy-1.10.1-cp38-cp38-win_amd64.whl (42.2 MB)\n",
      "Requirement already satisfied: numpy<1.27.0,>=1.19.5 in c:\\users\\akish.pothuri\\python\\finance_bot\\finance\\lib\\site-packages (from scipy) (1.24.4)\n",
      "Installing collected packages: scipy\n",
      "Successfully installed scipy-1.10.1\n",
      "Note: you may need to restart the kernel to use updated packages.\n"
     ]
    },
    {
     "name": "stderr",
     "output_type": "stream",
     "text": [
      "WARNING: You are using pip version 21.1.1; however, version 24.0 is available.\n",
      "You should consider upgrading via the 'c:\\Users\\akish.pothuri\\python\\Finance_Bot\\finance\\Scripts\\python.exe -m pip install --upgrade pip' command.\n"
     ]
    }
   ],
   "source": [
    "%pip install scipy"
   ]
  },
  {
   "cell_type": "code",
   "execution_count": 8,
   "metadata": {},
   "outputs": [],
   "source": [
    "from transformers import GPT2LMHeadModel, GPT2Tokenizer\n",
    "\n",
    "# Load the fine-tuned model and tokenizer\n",
    "model = GPT2LMHeadModel.from_pretrained('Akish/GPT2-QA-Finetuned')\n",
    "tokenizer = GPT2Tokenizer.from_pretrained('Akish/GPT2-QA-Finetuned')"
   ]
  },
  {
   "cell_type": "code",
   "execution_count": 44,
   "metadata": {},
   "outputs": [],
   "source": [
    "Template = \"Act a Role of Financial Advisor. People ask question about financial doubts. You should answer their in simple english and respectable tone.The question is mentioned below question : Where did I invest my first job salary? Make sure your answer was contextually correct.\""
   ]
  },
  {
   "cell_type": "code",
   "execution_count": 45,
   "metadata": {},
   "outputs": [],
   "source": [
    "# Prepare your question\n",
    "question = Template\n",
    "input_ids = tokenizer.encode(question, return_tensors='pt')"
   ]
  },
  {
   "cell_type": "code",
   "execution_count": 46,
   "metadata": {},
   "outputs": [
    {
     "name": "stderr",
     "output_type": "stream",
     "text": [
      "The attention mask and the pad token id were not set. As a consequence, you may observe unexpected behavior. Please pass your input's `attention_mask` to obtain reliable results.\n",
      "Setting `pad_token_id` to `eos_token_id`:50256 for open-end generation.\n"
     ]
    }
   ],
   "source": [
    "# Generate an answer\n",
    "output = model.generate(input_ids, max_length=100, num_return_sequences=1)"
   ]
  },
  {
   "cell_type": "code",
   "execution_count": 47,
   "metadata": {},
   "outputs": [
    {
     "data": {
      "text/plain": [
       "tensor([[ 6398,   257, 20934,   286, 11302, 35399,    13,  4380,  1265,  1808,\n",
       "           546,  3176, 17188,    13,   921,   815,  3280,   511,   287,  2829,\n",
       "         46932,   290, 27721,  8216,    13,   464,  1808,   318,  4750,  2174,\n",
       "          1808,  1058,  6350,   750,   314,  1325,   616,   717,  1693,  9588,\n",
       "            30,  6889,  1654,   534,  3280,   373,  4732,   935,  3376,    13,\n",
       "          1002,   345,   389,   407,  1654,    11,   345,   460,  1265,   534,\n",
       "          3176, 20685,    13,  1002,   345,   389,   407,  1654,    11,   345,\n",
       "           460,  1265,   534,  3176, 20685,    13,  1002,   345,   389,   407,\n",
       "          1654,    11,   345,   460,  1265,   534,  3176, 20685,    13,  1002,\n",
       "           345,   389,   407,  1654,    11,   345,   460,  1265,   534,  3176]])"
      ]
     },
     "execution_count": 47,
     "metadata": {},
     "output_type": "execute_result"
    }
   ],
   "source": [
    "output"
   ]
  },
  {
   "cell_type": "code",
   "execution_count": 48,
   "metadata": {},
   "outputs": [
    {
     "name": "stdout",
     "output_type": "stream",
     "text": [
      "Act a Role of Financial Advisor. People ask question about financial doubts. You should answer their in simple english and respectable tone.The question is mentioned below question : Where did I invest my first job salary? Make sure your answer was contextually correct. If you are not sure, you can ask your financial advisor. If you are not sure, you can ask your financial advisor. If you are not sure, you can ask your financial advisor. If you are not sure, you can ask your financial\n"
     ]
    }
   ],
   "source": [
    "# Decode the answer\n",
    "answer = tokenizer.decode(output[0], skip_special_tokens=False)\n",
    "print(answer)"
   ]
  },
  {
   "cell_type": "code",
   "execution_count": 49,
   "metadata": {},
   "outputs": [
    {
     "name": "stdout",
     "output_type": "stream",
     "text": [
      "Note: you may need to restart the kernel to use updated packages.\n"
     ]
    },
    {
     "name": "stderr",
     "output_type": "stream",
     "text": [
      "WARNING: You are using pip version 21.1.1; however, version 24.0 is available.\n",
      "You should consider upgrading via the 'c:\\Users\\akish.pothuri\\python\\Finance_Bot\\finance\\Scripts\\python.exe -m pip install --upgrade pip' command.\n"
     ]
    }
   ],
   "source": [
    "%pip install --upgrade --quiet  ctransformers"
   ]
  },
  {
   "cell_type": "code",
   "execution_count": 50,
   "metadata": {},
   "outputs": [
    {
     "data": {
      "text/plain": [
       "'c:\\\\Users\\\\akish.pothuri\\\\python\\\\Finance_Bot'"
      ]
     },
     "execution_count": 50,
     "metadata": {},
     "output_type": "execute_result"
    }
   ],
   "source": [
    "%pwd"
   ]
  },
  {
   "cell_type": "code",
   "execution_count": 52,
   "metadata": {},
   "outputs": [
    {
     "name": "stdout",
     "output_type": "stream",
     "text": [
      "Collecting langchain_community\n",
      "  Downloading langchain_community-0.0.34-py3-none-any.whl (1.9 MB)\n",
      "Collecting langsmith<0.2.0,>=0.1.0\n",
      "  Downloading langsmith-0.1.50-py3-none-any.whl (115 kB)\n",
      "Requirement already satisfied: requests<3,>=2 in c:\\users\\akish.pothuri\\python\\finance_bot\\finance\\lib\\site-packages (from langchain_community) (2.31.0)\n",
      "Collecting SQLAlchemy<3,>=1.4\n",
      "  Downloading SQLAlchemy-2.0.29-cp38-cp38-win_amd64.whl (2.1 MB)\n",
      "Requirement already satisfied: numpy<2,>=1 in c:\\users\\akish.pothuri\\python\\finance_bot\\finance\\lib\\site-packages (from langchain_community) (1.24.4)\n",
      "Requirement already satisfied: aiohttp<4.0.0,>=3.8.3 in c:\\users\\akish.pothuri\\python\\finance_bot\\finance\\lib\\site-packages (from langchain_community) (3.9.5)\n",
      "Collecting dataclasses-json<0.7,>=0.5.7\n",
      "  Using cached dataclasses_json-0.6.4-py3-none-any.whl (28 kB)\n",
      "Collecting tenacity<9.0.0,>=8.1.0\n",
      "  Using cached tenacity-8.2.3-py3-none-any.whl (24 kB)\n",
      "Requirement already satisfied: PyYAML>=5.3 in c:\\users\\akish.pothuri\\python\\finance_bot\\finance\\lib\\site-packages (from langchain_community) (6.0.1)\n",
      "Collecting langchain-core<0.2.0,>=0.1.45\n",
      "  Downloading langchain_core-0.1.45-py3-none-any.whl (291 kB)\n",
      "Requirement already satisfied: multidict<7.0,>=4.5 in c:\\users\\akish.pothuri\\python\\finance_bot\\finance\\lib\\site-packages (from aiohttp<4.0.0,>=3.8.3->langchain_community) (6.0.5)\n",
      "Requirement already satisfied: frozenlist>=1.1.1 in c:\\users\\akish.pothuri\\python\\finance_bot\\finance\\lib\\site-packages (from aiohttp<4.0.0,>=3.8.3->langchain_community) (1.4.1)\n",
      "Requirement already satisfied: aiosignal>=1.1.2 in c:\\users\\akish.pothuri\\python\\finance_bot\\finance\\lib\\site-packages (from aiohttp<4.0.0,>=3.8.3->langchain_community) (1.3.1)\n",
      "Requirement already satisfied: attrs>=17.3.0 in c:\\users\\akish.pothuri\\python\\finance_bot\\finance\\lib\\site-packages (from aiohttp<4.0.0,>=3.8.3->langchain_community) (23.2.0)\n",
      "Requirement already satisfied: async-timeout<5.0,>=4.0 in c:\\users\\akish.pothuri\\python\\finance_bot\\finance\\lib\\site-packages (from aiohttp<4.0.0,>=3.8.3->langchain_community) (4.0.3)\n",
      "Requirement already satisfied: yarl<2.0,>=1.0 in c:\\users\\akish.pothuri\\python\\finance_bot\\finance\\lib\\site-packages (from aiohttp<4.0.0,>=3.8.3->langchain_community) (1.9.4)\n",
      "Collecting marshmallow<4.0.0,>=3.18.0\n",
      "  Downloading marshmallow-3.21.1-py3-none-any.whl (49 kB)\n",
      "Collecting typing-inspect<1,>=0.4.0\n",
      "  Using cached typing_inspect-0.9.0-py3-none-any.whl (8.8 kB)\n",
      "Collecting pydantic<3,>=1\n",
      "  Downloading pydantic-2.7.1-py3-none-any.whl (409 kB)\n",
      "Collecting jsonpatch<2.0,>=1.33\n",
      "  Using cached jsonpatch-1.33-py2.py3-none-any.whl (12 kB)\n",
      "Collecting packaging<24.0,>=23.2\n",
      "  Using cached packaging-23.2-py3-none-any.whl (53 kB)\n",
      "Collecting jsonpointer>=1.9\n",
      "  Using cached jsonpointer-2.4-py2.py3-none-any.whl (7.8 kB)\n",
      "Collecting orjson<4.0.0,>=3.9.14\n",
      "  Downloading orjson-3.10.1-cp38-none-win_amd64.whl (138 kB)\n",
      "Requirement already satisfied: typing-extensions>=4.6.1 in c:\\users\\akish.pothuri\\python\\finance_bot\\finance\\lib\\site-packages (from pydantic<3,>=1->langchain-core<0.2.0,>=0.1.45->langchain_community) (4.11.0)\n",
      "Collecting pydantic-core==2.18.2\n",
      "  Downloading pydantic_core-2.18.2-cp38-none-win_amd64.whl (1.9 MB)\n",
      "Collecting annotated-types>=0.4.0\n",
      "  Using cached annotated_types-0.6.0-py3-none-any.whl (12 kB)\n",
      "Requirement already satisfied: certifi>=2017.4.17 in c:\\users\\akish.pothuri\\python\\finance_bot\\finance\\lib\\site-packages (from requests<3,>=2->langchain_community) (2024.2.2)\n",
      "Requirement already satisfied: charset-normalizer<4,>=2 in c:\\users\\akish.pothuri\\python\\finance_bot\\finance\\lib\\site-packages (from requests<3,>=2->langchain_community) (3.3.2)\n",
      "Requirement already satisfied: idna<4,>=2.5 in c:\\users\\akish.pothuri\\python\\finance_bot\\finance\\lib\\site-packages (from requests<3,>=2->langchain_community) (3.7)\n",
      "Requirement already satisfied: urllib3<3,>=1.21.1 in c:\\users\\akish.pothuri\\python\\finance_bot\\finance\\lib\\site-packages (from requests<3,>=2->langchain_community) (2.2.1)\n",
      "Collecting greenlet!=0.4.17\n",
      "  Using cached greenlet-3.0.3-cp38-cp38-win_amd64.whl (290 kB)\n",
      "Collecting mypy-extensions>=0.3.0\n",
      "  Using cached mypy_extensions-1.0.0-py3-none-any.whl (4.7 kB)\n",
      "Installing collected packages: pydantic-core, annotated-types, pydantic, packaging, orjson, mypy-extensions, jsonpointer, typing-inspect, tenacity, marshmallow, langsmith, jsonpatch, greenlet, SQLAlchemy, langchain-core, dataclasses-json, langchain-community\n",
      "  Attempting uninstall: packaging\n",
      "    Found existing installation: packaging 24.0\n",
      "    Uninstalling packaging-24.0:\n",
      "      Successfully uninstalled packaging-24.0\n",
      "Successfully installed SQLAlchemy-2.0.29 annotated-types-0.6.0 dataclasses-json-0.6.4 greenlet-3.0.3 jsonpatch-1.33 jsonpointer-2.4 langchain-community-0.0.34 langchain-core-0.1.45 langsmith-0.1.50 marshmallow-3.21.1 mypy-extensions-1.0.0 orjson-3.10.1 packaging-23.2 pydantic-2.7.1 pydantic-core-2.18.2 tenacity-8.2.3 typing-inspect-0.9.0\n",
      "Note: you may need to restart the kernel to use updated packages.\n"
     ]
    },
    {
     "name": "stderr",
     "output_type": "stream",
     "text": [
      "WARNING: You are using pip version 21.1.1; however, version 24.0 is available.\n",
      "You should consider upgrading via the 'c:\\Users\\akish.pothuri\\python\\Finance_Bot\\finance\\Scripts\\python.exe -m pip install --upgrade pip' command.\n"
     ]
    }
   ],
   "source": [
    "%pip install langchain_community"
   ]
  },
  {
   "cell_type": "code",
   "execution_count": 64,
   "metadata": {},
   "outputs": [
    {
     "name": "stderr",
     "output_type": "stream",
     "text": [
      "Fetching 0 files: 0it [00:00, ?it/s]\n",
      "Fetching 1 files: 100%|██████████| 1/1 [00:00<00:00,  1.13it/s]\n"
     ]
    },
    {
     "ename": "ValidationError",
     "evalue": "1 validation error for CTransformers\n__root__\n  Unable to detect model type. Please specify a model type using:\n\n  AutoModelForCausalLM.from_pretrained(..., model_type='...')\n\n (type=value_error)",
     "output_type": "error",
     "traceback": [
      "\u001b[1;31m---------------------------------------------------------------------------\u001b[0m",
      "\u001b[1;31mValidationError\u001b[0m                           Traceback (most recent call last)",
      "Cell \u001b[1;32mIn[64], line 3\u001b[0m\n\u001b[0;32m      1\u001b[0m \u001b[38;5;28;01mfrom\u001b[39;00m \u001b[38;5;21;01mlangchain_community\u001b[39;00m\u001b[38;5;21;01m.\u001b[39;00m\u001b[38;5;21;01mllms\u001b[39;00m \u001b[38;5;28;01mimport\u001b[39;00m CTransformers\n\u001b[1;32m----> 3\u001b[0m llm \u001b[38;5;241m=\u001b[39m \u001b[43mCTransformers\u001b[49m\u001b[43m(\u001b[49m\u001b[43mmodel\u001b[49m\u001b[38;5;241;43m=\u001b[39;49m\u001b[38;5;124;43m\"\u001b[39;49m\u001b[38;5;124;43mAkish/GPT2-QA-Finetuned\u001b[39;49m\u001b[38;5;124;43m\"\u001b[39;49m\u001b[43m)\u001b[49m\n",
      "File \u001b[1;32mc:\\Users\\akish.pothuri\\python\\Finance_Bot\\finance\\lib\\site-packages\\langchain_core\\load\\serializable.py:120\u001b[0m, in \u001b[0;36mSerializable.__init__\u001b[1;34m(self, **kwargs)\u001b[0m\n\u001b[0;32m    119\u001b[0m \u001b[38;5;28;01mdef\u001b[39;00m \u001b[38;5;21m__init__\u001b[39m(\u001b[38;5;28mself\u001b[39m, \u001b[38;5;241m*\u001b[39m\u001b[38;5;241m*\u001b[39mkwargs: Any) \u001b[38;5;241m-\u001b[39m\u001b[38;5;241m>\u001b[39m \u001b[38;5;28;01mNone\u001b[39;00m:\n\u001b[1;32m--> 120\u001b[0m     \u001b[38;5;28;43msuper\u001b[39;49m\u001b[43m(\u001b[49m\u001b[43m)\u001b[49m\u001b[38;5;241;43m.\u001b[39;49m\u001b[38;5;21;43m__init__\u001b[39;49m\u001b[43m(\u001b[49m\u001b[38;5;241;43m*\u001b[39;49m\u001b[38;5;241;43m*\u001b[39;49m\u001b[43mkwargs\u001b[49m\u001b[43m)\u001b[49m\n\u001b[0;32m    121\u001b[0m     \u001b[38;5;28mself\u001b[39m\u001b[38;5;241m.\u001b[39m_lc_kwargs \u001b[38;5;241m=\u001b[39m kwargs\n",
      "File \u001b[1;32mc:\\Users\\akish.pothuri\\python\\Finance_Bot\\finance\\lib\\site-packages\\pydantic\\v1\\main.py:341\u001b[0m, in \u001b[0;36mBaseModel.__init__\u001b[1;34m(__pydantic_self__, **data)\u001b[0m\n\u001b[0;32m    339\u001b[0m values, fields_set, validation_error \u001b[38;5;241m=\u001b[39m validate_model(__pydantic_self__\u001b[38;5;241m.\u001b[39m\u001b[38;5;18m__class__\u001b[39m, data)\n\u001b[0;32m    340\u001b[0m \u001b[38;5;28;01mif\u001b[39;00m validation_error:\n\u001b[1;32m--> 341\u001b[0m     \u001b[38;5;28;01mraise\u001b[39;00m validation_error\n\u001b[0;32m    342\u001b[0m \u001b[38;5;28;01mtry\u001b[39;00m:\n\u001b[0;32m    343\u001b[0m     object_setattr(__pydantic_self__, \u001b[38;5;124m'\u001b[39m\u001b[38;5;124m__dict__\u001b[39m\u001b[38;5;124m'\u001b[39m, values)\n",
      "\u001b[1;31mValidationError\u001b[0m: 1 validation error for CTransformers\n__root__\n  Unable to detect model type. Please specify a model type using:\n\n  AutoModelForCausalLM.from_pretrained(..., model_type='...')\n\n (type=value_error)"
     ]
    }
   ],
   "source": [
    "from langchain_community.llms import CTransformers\n",
    "\n",
    "llm = CTransformers(model=\"Akish/GPT2-QA-Finetuned\")"
   ]
  },
  {
   "cell_type": "code",
   "execution_count": 65,
   "metadata": {},
   "outputs": [
    {
     "name": "stderr",
     "output_type": "stream",
     "text": [
      "CUDA extension not installed.\n",
      "CUDA extension not installed.\n",
      "c:\\Users\\akish.pothuri\\python\\Finance_Bot\\finance\\lib\\site-packages\\peft\\tuners\\lora\\model.py:311: UserWarning: fan_in_fan_out is set to False but the target module is `Conv1D`. Setting fan_in_fan_out to True.\n",
      "  warnings.warn(\n"
     ]
    }
   ],
   "source": [
    "from transformers import AutoModelForCausalLM\n",
    "\n",
    "# Specify the model type and the path or URL to your model\n",
    "model = AutoModelForCausalLM.from_pretrained('gpt2-QA-finetuned', model_type='gpt2')"
   ]
  },
  {
   "cell_type": "code",
   "execution_count": 60,
   "metadata": {},
   "outputs": [
    {
     "name": "stdout",
     "output_type": "stream",
     "text": [
      "Collecting auto-gptqNote: you may need to restart the kernel to use updated packages.\n"
     ]
    },
    {
     "name": "stderr",
     "output_type": "stream",
     "text": [
      "WARNING: You are using pip version 21.1.1; however, version 24.0 is available.\n",
      "You should consider upgrading via the 'c:\\Users\\akish.pothuri\\python\\Finance_Bot\\finance\\Scripts\\python.exe -m pip install --upgrade pip' command.\n"
     ]
    },
    {
     "name": "stdout",
     "output_type": "stream",
     "text": [
      "\n",
      "  Downloading auto_gptq-0.7.1-cp38-cp38-win_amd64.whl (4.6 MB)\n",
      "Collecting accelerate>=0.26.0\n",
      "  Downloading accelerate-0.29.3-py3-none-any.whl (297 kB)\n",
      "Requirement already satisfied: datasets in c:\\users\\akish.pothuri\\python\\finance_bot\\finance\\lib\\site-packages (from auto-gptq) (2.19.0)\n",
      "Requirement already satisfied: numpy in c:\\users\\akish.pothuri\\python\\finance_bot\\finance\\lib\\site-packages (from auto-gptq) (1.24.4)\n",
      "Requirement already satisfied: safetensors in c:\\users\\akish.pothuri\\python\\finance_bot\\finance\\lib\\site-packages (from auto-gptq) (0.4.3)\n",
      "Requirement already satisfied: transformers>=4.31.0 in c:\\users\\akish.pothuri\\python\\finance_bot\\finance\\lib\\site-packages (from auto-gptq) (4.36.2)\n",
      "Requirement already satisfied: tqdm in c:\\users\\akish.pothuri\\python\\finance_bot\\finance\\lib\\site-packages (from auto-gptq) (4.66.2)\n",
      "Collecting gekko\n",
      "  Downloading gekko-1.1.1-py3-none-any.whl (13.2 MB)\n",
      "Requirement already satisfied: peft>=0.5.0 in c:\\users\\akish.pothuri\\python\\finance_bot\\finance\\lib\\site-packages (from auto-gptq) (0.6.0)\n",
      "Collecting rouge\n",
      "  Downloading rouge-1.0.1-py3-none-any.whl (13 kB)\n",
      "Requirement already satisfied: torch>=1.13.0 in c:\\users\\akish.pothuri\\python\\finance_bot\\finance\\lib\\site-packages (from auto-gptq) (2.2.2)\n",
      "Collecting sentencepiece\n",
      "  Using cached sentencepiece-0.2.0-cp38-cp38-win_amd64.whl (991 kB)\n",
      "Requirement already satisfied: pyyaml in c:\\users\\akish.pothuri\\python\\finance_bot\\finance\\lib\\site-packages (from accelerate>=0.26.0->auto-gptq) (6.0.1)\n",
      "Requirement already satisfied: packaging>=20.0 in c:\\users\\akish.pothuri\\python\\finance_bot\\finance\\lib\\site-packages (from accelerate>=0.26.0->auto-gptq) (23.2)\n",
      "Requirement already satisfied: huggingface-hub in c:\\users\\akish.pothuri\\python\\finance_bot\\finance\\lib\\site-packages (from accelerate>=0.26.0->auto-gptq) (0.22.2)\n",
      "Requirement already satisfied: psutil in c:\\users\\akish.pothuri\\python\\finance_bot\\finance\\lib\\site-packages (from accelerate>=0.26.0->auto-gptq) (5.9.8)\n",
      "Requirement already satisfied: fsspec in c:\\users\\akish.pothuri\\python\\finance_bot\\finance\\lib\\site-packages (from torch>=1.13.0->auto-gptq) (2024.3.1)\n",
      "Requirement already satisfied: filelock in c:\\users\\akish.pothuri\\python\\finance_bot\\finance\\lib\\site-packages (from torch>=1.13.0->auto-gptq) (3.13.4)\n",
      "Requirement already satisfied: networkx in c:\\users\\akish.pothuri\\python\\finance_bot\\finance\\lib\\site-packages (from torch>=1.13.0->auto-gptq) (3.1)\n",
      "Requirement already satisfied: sympy in c:\\users\\akish.pothuri\\python\\finance_bot\\finance\\lib\\site-packages (from torch>=1.13.0->auto-gptq) (1.12)\n",
      "Requirement already satisfied: jinja2 in c:\\users\\akish.pothuri\\python\\finance_bot\\finance\\lib\\site-packages (from torch>=1.13.0->auto-gptq) (3.1.3)\n",
      "Requirement already satisfied: typing-extensions>=4.8.0 in c:\\users\\akish.pothuri\\python\\finance_bot\\finance\\lib\\site-packages (from torch>=1.13.0->auto-gptq) (4.11.0)\n",
      "Requirement already satisfied: regex!=2019.12.17 in c:\\users\\akish.pothuri\\python\\finance_bot\\finance\\lib\\site-packages (from transformers>=4.31.0->auto-gptq) (2024.4.16)\n",
      "Requirement already satisfied: requests in c:\\users\\akish.pothuri\\python\\finance_bot\\finance\\lib\\site-packages (from transformers>=4.31.0->auto-gptq) (2.31.0)\n",
      "Requirement already satisfied: tokenizers<0.19,>=0.14 in c:\\users\\akish.pothuri\\python\\finance_bot\\finance\\lib\\site-packages (from transformers>=4.31.0->auto-gptq) (0.15.2)\n",
      "Requirement already satisfied: colorama in c:\\users\\akish.pothuri\\python\\finance_bot\\finance\\lib\\site-packages (from tqdm->auto-gptq) (0.4.6)\n",
      "Requirement already satisfied: pyarrow-hotfix in c:\\users\\akish.pothuri\\python\\finance_bot\\finance\\lib\\site-packages (from datasets->auto-gptq) (0.6)\n",
      "Requirement already satisfied: pandas in c:\\users\\akish.pothuri\\python\\finance_bot\\finance\\lib\\site-packages (from datasets->auto-gptq) (2.0.3)\n",
      "Requirement already satisfied: multiprocess in c:\\users\\akish.pothuri\\python\\finance_bot\\finance\\lib\\site-packages (from datasets->auto-gptq) (0.70.16)\n",
      "Requirement already satisfied: aiohttp in c:\\users\\akish.pothuri\\python\\finance_bot\\finance\\lib\\site-packages (from datasets->auto-gptq) (3.9.5)\n",
      "Requirement already satisfied: xxhash in c:\\users\\akish.pothuri\\python\\finance_bot\\finance\\lib\\site-packages (from datasets->auto-gptq) (3.4.1)\n",
      "Requirement already satisfied: pyarrow>=12.0.0 in c:\\users\\akish.pothuri\\python\\finance_bot\\finance\\lib\\site-packages (from datasets->auto-gptq) (16.0.0)\n",
      "Requirement already satisfied: dill<0.3.9,>=0.3.0 in c:\\users\\akish.pothuri\\python\\finance_bot\\finance\\lib\\site-packages (from datasets->auto-gptq) (0.3.8)\n",
      "Requirement already satisfied: async-timeout<5.0,>=4.0 in c:\\users\\akish.pothuri\\python\\finance_bot\\finance\\lib\\site-packages (from aiohttp->datasets->auto-gptq) (4.0.3)\n",
      "Requirement already satisfied: aiosignal>=1.1.2 in c:\\users\\akish.pothuri\\python\\finance_bot\\finance\\lib\\site-packages (from aiohttp->datasets->auto-gptq) (1.3.1)\n",
      "Requirement already satisfied: yarl<2.0,>=1.0 in c:\\users\\akish.pothuri\\python\\finance_bot\\finance\\lib\\site-packages (from aiohttp->datasets->auto-gptq) (1.9.4)\n",
      "Requirement already satisfied: multidict<7.0,>=4.5 in c:\\users\\akish.pothuri\\python\\finance_bot\\finance\\lib\\site-packages (from aiohttp->datasets->auto-gptq) (6.0.5)\n",
      "Requirement already satisfied: attrs>=17.3.0 in c:\\users\\akish.pothuri\\python\\finance_bot\\finance\\lib\\site-packages (from aiohttp->datasets->auto-gptq) (23.2.0)\n",
      "Requirement already satisfied: frozenlist>=1.1.1 in c:\\users\\akish.pothuri\\python\\finance_bot\\finance\\lib\\site-packages (from aiohttp->datasets->auto-gptq) (1.4.1)\n",
      "Requirement already satisfied: certifi>=2017.4.17 in c:\\users\\akish.pothuri\\python\\finance_bot\\finance\\lib\\site-packages (from requests->transformers>=4.31.0->auto-gptq) (2024.2.2)\n",
      "Requirement already satisfied: charset-normalizer<4,>=2 in c:\\users\\akish.pothuri\\python\\finance_bot\\finance\\lib\\site-packages (from requests->transformers>=4.31.0->auto-gptq) (3.3.2)\n",
      "Requirement already satisfied: idna<4,>=2.5 in c:\\users\\akish.pothuri\\python\\finance_bot\\finance\\lib\\site-packages (from requests->transformers>=4.31.0->auto-gptq) (3.7)\n",
      "Requirement already satisfied: urllib3<3,>=1.21.1 in c:\\users\\akish.pothuri\\python\\finance_bot\\finance\\lib\\site-packages (from requests->transformers>=4.31.0->auto-gptq) (2.2.1)\n",
      "Requirement already satisfied: MarkupSafe>=2.0 in c:\\users\\akish.pothuri\\python\\finance_bot\\finance\\lib\\site-packages (from jinja2->torch>=1.13.0->auto-gptq) (2.1.5)\n",
      "Requirement already satisfied: pytz>=2020.1 in c:\\users\\akish.pothuri\\python\\finance_bot\\finance\\lib\\site-packages (from pandas->datasets->auto-gptq) (2024.1)\n",
      "Requirement already satisfied: tzdata>=2022.1 in c:\\users\\akish.pothuri\\python\\finance_bot\\finance\\lib\\site-packages (from pandas->datasets->auto-gptq) (2024.1)\n",
      "Requirement already satisfied: python-dateutil>=2.8.2 in c:\\users\\akish.pothuri\\python\\finance_bot\\finance\\lib\\site-packages (from pandas->datasets->auto-gptq) (2.9.0.post0)\n",
      "Requirement already satisfied: six>=1.5 in c:\\users\\akish.pothuri\\python\\finance_bot\\finance\\lib\\site-packages (from python-dateutil>=2.8.2->pandas->datasets->auto-gptq) (1.16.0)\n",
      "Requirement already satisfied: mpmath>=0.19 in c:\\users\\akish.pothuri\\python\\finance_bot\\finance\\lib\\site-packages (from sympy->torch>=1.13.0->auto-gptq) (1.3.0)\n",
      "Installing collected packages: accelerate, sentencepiece, rouge, gekko, auto-gptq\n",
      "  Attempting uninstall: accelerate\n",
      "    Found existing installation: accelerate 0.21.0\n",
      "    Uninstalling accelerate-0.21.0:\n",
      "      Successfully uninstalled accelerate-0.21.0\n",
      "Successfully installed accelerate-0.29.3 auto-gptq-0.7.1 gekko-1.1.1 rouge-1.0.1 sentencepiece-0.2.0\n"
     ]
    }
   ],
   "source": [
    "%pip install auto-gptq"
   ]
  },
  {
   "cell_type": "code",
   "execution_count": 30,
   "metadata": {},
   "outputs": [
    {
     "name": "stderr",
     "output_type": "stream",
     "text": [
      "c:\\Users\\akish.pothuri\\python\\Finance_Bot\\finance\\lib\\site-packages\\peft\\tuners\\lora\\model.py:311: UserWarning: fan_in_fan_out is set to False but the target module is `Conv1D`. Setting fan_in_fan_out to True.\n",
      "  warnings.warn(\n"
     ]
    }
   ],
   "source": [
    "from transformers import AutoTokenizer,pipeline\n",
    "model_id = \"Akish/GPT2-QA-Finetuned\"\n",
    "\n",
    "tokenizer = AutoTokenizer.from_pretrained(model_id)\n",
    "model = AutoModelForCausalLM.from_pretrained(\n",
    "                 model_id\n",
    "                 )\n",
    "pipe = pipeline(\"text-generation\", \n",
    "               model=model, \n",
    "               tokenizer=tokenizer, \n",
    "               max_new_tokens=512\n",
    "               )"
   ]
  },
  {
   "cell_type": "code",
   "execution_count": 76,
   "metadata": {},
   "outputs": [
    {
     "name": "stdout",
     "output_type": "stream",
     "text": [
      "Collecting langchainNote: you may need to restart the kernel to use updated packages.\n"
     ]
    },
    {
     "name": "stderr",
     "output_type": "stream",
     "text": [
      "WARNING: You are using pip version 21.1.1; however, version 24.0 is available.\n",
      "You should consider upgrading via the 'c:\\Users\\akish.pothuri\\python\\Finance_Bot\\finance\\Scripts\\python.exe -m pip install --upgrade pip' command.\n"
     ]
    },
    {
     "name": "stdout",
     "output_type": "stream",
     "text": [
      "\n",
      "  Using cached langchain-0.1.16-py3-none-any.whl (817 kB)\n",
      "Requirement already satisfied: async-timeout<5.0.0,>=4.0.0 in c:\\users\\akish.pothuri\\python\\finance_bot\\finance\\lib\\site-packages (from langchain) (4.0.3)\n",
      "Collecting pydantic<3,>=1\n",
      "  Using cached pydantic-2.7.1-py3-none-any.whl (409 kB)\n",
      "Requirement already satisfied: numpy<2,>=1 in c:\\users\\akish.pothuri\\python\\finance_bot\\finance\\lib\\site-packages (from langchain) (1.24.4)\n",
      "Collecting tenacity<9.0.0,>=8.1.0\n",
      "  Using cached tenacity-8.2.3-py3-none-any.whl (24 kB)\n",
      "Collecting jsonpatch<2.0,>=1.33\n",
      "  Using cached jsonpatch-1.33-py2.py3-none-any.whl (12 kB)\n",
      "Collecting langchain-community<0.1,>=0.0.32\n",
      "  Using cached langchain_community-0.0.34-py3-none-any.whl (1.9 MB)\n",
      "Requirement already satisfied: aiohttp<4.0.0,>=3.8.3 in c:\\users\\akish.pothuri\\python\\finance_bot\\finance\\lib\\site-packages (from langchain) (3.9.5)\n",
      "Requirement already satisfied: requests<3,>=2 in c:\\users\\akish.pothuri\\python\\finance_bot\\finance\\lib\\site-packages (from langchain) (2.31.0)\n",
      "Collecting SQLAlchemy<3,>=1.4\n",
      "  Using cached SQLAlchemy-2.0.29-cp38-cp38-win_amd64.whl (2.1 MB)\n",
      "Collecting langchain-text-splitters<0.1,>=0.0.1\n",
      "  Using cached langchain_text_splitters-0.0.1-py3-none-any.whl (21 kB)\n",
      "Collecting dataclasses-json<0.7,>=0.5.7\n",
      "  Using cached dataclasses_json-0.6.4-py3-none-any.whl (28 kB)\n",
      "Collecting langchain-core<0.2.0,>=0.1.42\n",
      "  Using cached langchain_core-0.1.45-py3-none-any.whl (291 kB)\n",
      "Requirement already satisfied: PyYAML>=5.3 in c:\\users\\akish.pothuri\\python\\finance_bot\\finance\\lib\\site-packages (from langchain) (6.0.1)\n",
      "Collecting langsmith<0.2.0,>=0.1.17\n",
      "  Using cached langsmith-0.1.50-py3-none-any.whl (115 kB)\n",
      "Requirement already satisfied: aiosignal>=1.1.2 in c:\\users\\akish.pothuri\\python\\finance_bot\\finance\\lib\\site-packages (from aiohttp<4.0.0,>=3.8.3->langchain) (1.3.1)\n",
      "Requirement already satisfied: frozenlist>=1.1.1 in c:\\users\\akish.pothuri\\python\\finance_bot\\finance\\lib\\site-packages (from aiohttp<4.0.0,>=3.8.3->langchain) (1.4.1)\n",
      "Requirement already satisfied: yarl<2.0,>=1.0 in c:\\users\\akish.pothuri\\python\\finance_bot\\finance\\lib\\site-packages (from aiohttp<4.0.0,>=3.8.3->langchain) (1.9.4)\n",
      "Requirement already satisfied: multidict<7.0,>=4.5 in c:\\users\\akish.pothuri\\python\\finance_bot\\finance\\lib\\site-packages (from aiohttp<4.0.0,>=3.8.3->langchain) (6.0.5)\n",
      "Requirement already satisfied: attrs>=17.3.0 in c:\\users\\akish.pothuri\\python\\finance_bot\\finance\\lib\\site-packages (from aiohttp<4.0.0,>=3.8.3->langchain) (23.2.0)\n",
      "Collecting typing-inspect<1,>=0.4.0\n",
      "  Using cached typing_inspect-0.9.0-py3-none-any.whl (8.8 kB)\n",
      "Collecting marshmallow<4.0.0,>=3.18.0\n",
      "  Using cached marshmallow-3.21.1-py3-none-any.whl (49 kB)\n",
      "Collecting jsonpointer>=1.9\n",
      "  Using cached jsonpointer-2.4-py2.py3-none-any.whl (7.8 kB)\n",
      "Collecting packaging<24.0,>=23.2\n",
      "  Using cached packaging-23.2-py3-none-any.whl (53 kB)\n",
      "Collecting orjson<4.0.0,>=3.9.14\n",
      "  Using cached orjson-3.10.1-cp38-none-win_amd64.whl (138 kB)\n",
      "Collecting pydantic-core==2.18.2\n",
      "  Using cached pydantic_core-2.18.2-cp38-none-win_amd64.whl (1.9 MB)\n",
      "Requirement already satisfied: typing-extensions>=4.6.1 in c:\\users\\akish.pothuri\\python\\finance_bot\\finance\\lib\\site-packages (from pydantic<3,>=1->langchain) (4.11.0)\n",
      "Collecting annotated-types>=0.4.0\n",
      "  Using cached annotated_types-0.6.0-py3-none-any.whl (12 kB)\n",
      "Requirement already satisfied: urllib3<3,>=1.21.1 in c:\\users\\akish.pothuri\\python\\finance_bot\\finance\\lib\\site-packages (from requests<3,>=2->langchain) (2.2.1)\n",
      "Requirement already satisfied: charset-normalizer<4,>=2 in c:\\users\\akish.pothuri\\python\\finance_bot\\finance\\lib\\site-packages (from requests<3,>=2->langchain) (3.3.2)\n",
      "Requirement already satisfied: idna<4,>=2.5 in c:\\users\\akish.pothuri\\python\\finance_bot\\finance\\lib\\site-packages (from requests<3,>=2->langchain) (3.7)\n",
      "Requirement already satisfied: certifi>=2017.4.17 in c:\\users\\akish.pothuri\\python\\finance_bot\\finance\\lib\\site-packages (from requests<3,>=2->langchain) (2024.2.2)\n",
      "Collecting greenlet!=0.4.17\n",
      "  Using cached greenlet-3.0.3-cp38-cp38-win_amd64.whl (290 kB)\n",
      "Collecting mypy-extensions>=0.3.0\n",
      "  Using cached mypy_extensions-1.0.0-py3-none-any.whl (4.7 kB)\n",
      "Installing collected packages: pydantic-core, annotated-types, pydantic, packaging, orjson, mypy-extensions, jsonpointer, typing-inspect, tenacity, marshmallow, langsmith, jsonpatch, greenlet, SQLAlchemy, langchain-core, dataclasses-json, langchain-text-splitters, langchain-community, langchain\n",
      "  Attempting uninstall: packaging\n",
      "    Found existing installation: packaging 24.0\n",
      "    Uninstalling packaging-24.0:\n",
      "      Successfully uninstalled packaging-24.0\n",
      "Successfully installed SQLAlchemy-2.0.29 annotated-types-0.6.0 dataclasses-json-0.6.4 greenlet-3.0.3 jsonpatch-1.33 jsonpointer-2.4 langchain-0.1.16 langchain-community-0.0.34 langchain-core-0.1.45 langchain-text-splitters-0.0.1 langsmith-0.1.50 marshmallow-3.21.1 mypy-extensions-1.0.0 orjson-3.10.1 packaging-23.2 pydantic-2.7.1 pydantic-core-2.18.2 tenacity-8.2.3 typing-inspect-0.9.0\n"
     ]
    }
   ],
   "source": [
    "%pip install langchain"
   ]
  },
  {
   "cell_type": "code",
   "execution_count": 31,
   "metadata": {},
   "outputs": [],
   "source": [
    "from langchain.llms.huggingface_pipeline import HuggingFacePipeline\n",
    "import torch\n",
    "from transformers import AutoModelForCausalLM, AutoTokenizer, pipeline\n",
    "from transformers import BitsAndBytesConfig"
   ]
  },
  {
   "cell_type": "code",
   "execution_count": 40,
   "metadata": {},
   "outputs": [
    {
     "name": "stdout",
     "output_type": "stream",
     "text": [
      "The majority of money is in short-term, long-term investments made by you rather than in a central bank like your old, established bank which has an explicit written rule for managing your expenses in an ongoing fashion. The most important difference between these two systems is that many of them have no mechanism for management because they rely on manual and institutional processes. This is because they are based on a rigidly defined system that is built around a fixed and fixed-price model of spending and money. A low-cost model usually comes with a fixed interest rate, and is likely to be followed long-term to meet the needs of a long-term customer. When it comes to large investments, the low interest rates could mean a steep, higher price, which would increase your income relative to the interest rate set by the central bank. The idea is that you should start by spending on items that are highly preferred over things that are more valuable to you. For example, a restaurant or café with lots of food will cost you approximately $1,250 rather than $1,500 a year, which is often less than a dollar more than you would get if you spent money by buying a nice dinner or an awesome steak. A lot of restaurants can often offer multiple options for serving the food, so it might be more appropriate to start with one option and spend more. Lastly, you might choose small investments in a way that can reduce or avoid the need for central bank supervision. For example, many hotels and restaurants can offer you a large discount on the price of basic necessities like water, toiletries, and other essentials. The cost of providing many basic items like food and clothing depends on the location and hours and prices. The cheaper you charge, the greater the savings you are actually getting by being able to store as much stuff as you choose. By keeping your money on an individual basis, however, central banks have the ability to be able to control this. This means that for example if a customer buys a fancy dinner, they could be allowed to save a dollar by having a discount on the price for all of the things they buy, and so on. If they pay less, they can also be better able to give away the discount on each item they have. This is a very beneficial feature of the system, since it would reduce the need for central banks to enforce specific terms as they are willing to enforce them - that is, a more predictable rate on the rates and prices when the customer pays has less of an advantage than when he or she\n"
     ]
    }
   ],
   "source": [
    "import re\n",
    "\n",
    "hf = HuggingFacePipeline(pipeline=pipe)\n",
    "\n",
    "query = \"Where do i invest money\"\n",
    "\n",
    "prompt = f\"\"\"\n",
    "### System:\n",
    "You are an AI assistant that follows instruction extremely well. \n",
    "Help as much as you can. Please be truthful and give direct answers in 100 words\n",
    "\n",
    "### User:\n",
    "{query}\n",
    "\n",
    "### Response:\n",
    "\"\"\"\n",
    "\n",
    "response = hf.predict(prompt)\n",
    "# print(response)\n",
    "match = re.search(r\"### Response:\\n(.*?)(?=###|$)\", response, flags=re.DOTALL)\n",
    "\n",
    "if match:\n",
    "  response = match.group(1).strip()  # Remove leading/trailing whitespace\n",
    "  print(response)\n",
    "else:\n",
    "  print(\"No 'Response' section found.\")"
   ]
  },
  {
   "cell_type": "code",
   "execution_count": null,
   "metadata": {},
   "outputs": [],
   "source": []
  }
 ],
 "metadata": {
  "kernelspec": {
   "display_name": "finance",
   "language": "python",
   "name": "python3"
  },
  "language_info": {
   "codemirror_mode": {
    "name": "ipython",
    "version": 3
   },
   "file_extension": ".py",
   "mimetype": "text/x-python",
   "name": "python",
   "nbconvert_exporter": "python",
   "pygments_lexer": "ipython3",
   "version": "3.8.10"
  }
 },
 "nbformat": 4,
 "nbformat_minor": 2
}
